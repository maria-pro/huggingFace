{
  "cells": [
    {
      "cell_type": "markdown",
      "metadata": {
        "id": "view-in-github",
        "colab_type": "text"
      },
      "source": [
        "<a href=\"https://colab.research.google.com/github/maria-pro/huggingFace/blob/main/Meet_the_Hugging_Face_%F0%9F%A4%97_datasets.ipynb\" target=\"_parent\"><img src=\"https://colab.research.google.com/assets/colab-badge.svg\" alt=\"Open In Colab\"/></a>"
      ]
    },
    {
      "cell_type": "markdown",
      "metadata": {
        "id": "uFq1XjOx9EqH"
      },
      "source": [
        "<table style=\"width:100%; background-color: #FFD21E;\">\n",
        "  <tr>\n",
        "    <td style=\"text-align: center; width: 100%;\">\n",
        "      <img src=\"https://chunte-hfba.static.hf.space/images/Brand%20Logos/hf-logo-with-title.png\" alt=\"Hugging Face Logo\" style=\"max-width: 100%;\"/>\n",
        "    </td>\n",
        "  </tr>\n",
        "</table>\n",
        "\n",
        "---\n",
        "\n"
      ]
    },
    {
      "cell_type": "markdown",
      "metadata": {
        "id": "6Dn3Q5Ec5rse"
      },
      "source": [
        "# Getting started with the 🤗 datasets library"
      ]
    },
    {
      "cell_type": "code",
      "source": [
        "# installed libraries\n",
        "!pip install datasets\n",
        "!pip install huggingface_hub\n",
        "\n",
        "#setup Hugging Face token\n",
        "from google.colab import userdata\n",
        "\n",
        "# optional secret key to access HF\n",
        "# userdata.get('googlecolab')"
      ],
      "metadata": {
        "collapsed": true,
        "id": "x-lY2kf5q97Z"
      },
      "execution_count": null,
      "outputs": []
    },
    {
      "cell_type": "code",
      "source": [
        "#load imdb dataset\n",
        "from datasets import load_dataset\n",
        "dataset=load_dataset(\"imdb\")\n",
        "print(dataset)"
      ],
      "metadata": {
        "colab": {
          "base_uri": "https://localhost:8080/"
        },
        "id": "X8Ac_X7lrXDV",
        "outputId": "bba3e97a-382a-49f8-c056-332b69016de1"
      },
      "execution_count": 9,
      "outputs": [
        {
          "output_type": "stream",
          "name": "stdout",
          "text": [
            "DatasetDict({\n",
            "    train: Dataset({\n",
            "        features: ['text', 'label'],\n",
            "        num_rows: 25000\n",
            "    })\n",
            "    test: Dataset({\n",
            "        features: ['text', 'label'],\n",
            "        num_rows: 25000\n",
            "    })\n",
            "    unsupervised: Dataset({\n",
            "        features: ['text', 'label'],\n",
            "        num_rows: 50000\n",
            "    })\n",
            "})\n"
          ]
        }
      ]
    },
    {
      "cell_type": "markdown",
      "metadata": {
        "id": "UFQIeCJH46wo"
      },
      "source": []
    },
    {
      "cell_type": "code",
      "source": [
        "# training split\n",
        "train_dataset=dataset['train']"
      ],
      "metadata": {
        "id": "3LELxNderMSt"
      },
      "execution_count": 10,
      "outputs": []
    },
    {
      "cell_type": "code",
      "source": [
        "test_dataset=dataset['test']"
      ],
      "metadata": {
        "id": "BCDNLi4Zt30r"
      },
      "execution_count": 11,
      "outputs": []
    },
    {
      "cell_type": "code",
      "source": [
        "train_dataset.column_names"
      ],
      "metadata": {
        "colab": {
          "base_uri": "https://localhost:8080/"
        },
        "id": "jfsmQ_ILt6w0",
        "outputId": "95fa81fc-4ac0-474d-ca88-402a80367a42"
      },
      "execution_count": 12,
      "outputs": [
        {
          "output_type": "execute_result",
          "data": {
            "text/plain": [
              "['text', 'label']"
            ]
          },
          "metadata": {},
          "execution_count": 12
        }
      ]
    },
    {
      "cell_type": "code",
      "source": [
        "train_dataset.features"
      ],
      "metadata": {
        "colab": {
          "base_uri": "https://localhost:8080/"
        },
        "id": "-LwmDTZnuAUY",
        "outputId": "2076dfd6-a3da-4310-bca4-b11debb045e5"
      },
      "execution_count": 13,
      "outputs": [
        {
          "output_type": "execute_result",
          "data": {
            "text/plain": [
              "{'text': Value(dtype='string', id=None),\n",
              " 'label': ClassLabel(names=['neg', 'pos'], id=None)}"
            ]
          },
          "metadata": {},
          "execution_count": 13
        }
      ]
    },
    {
      "cell_type": "code",
      "source": [
        "train_dataset[0]\n",
        "train_dataset[-1]"
      ],
      "metadata": {
        "colab": {
          "base_uri": "https://localhost:8080/"
        },
        "id": "3owQzDlKuDk_",
        "outputId": "e0cf2947-7a4d-470d-e042-1e1a6bd0f5ce"
      },
      "execution_count": 15,
      "outputs": [
        {
          "output_type": "execute_result",
          "data": {
            "text/plain": [
              "{'text': 'The story centers around Barry McKenzie who must go to England if he wishes to claim his inheritance. Being about the grossest Aussie shearer ever to set foot outside this great Nation of ours there is something of a culture clash and much fun and games ensue. The songs of Barry McKenzie(Barry Crocker) are highlights.',\n",
              " 'label': 1}"
            ]
          },
          "metadata": {},
          "execution_count": 15
        }
      ]
    },
    {
      "cell_type": "code",
      "source": [
        "positive_reviews=train_dataset.filter(lambda x: x['label']==1)\n",
        "print(positive_reviews)"
      ],
      "metadata": {
        "colab": {
          "base_uri": "https://localhost:8080/"
        },
        "id": "m35mgiM5uRhD",
        "outputId": "53918b88-700e-4193-d0db-50e4b3d1cf3a"
      },
      "execution_count": 23,
      "outputs": [
        {
          "output_type": "stream",
          "name": "stdout",
          "text": [
            "Dataset({\n",
            "    features: ['text', 'label'],\n",
            "    num_rows: 12500\n",
            "})\n"
          ]
        }
      ]
    },
    {
      "cell_type": "code",
      "source": [
        "train_dataset.select(range(1000))[1:50]"
      ],
      "metadata": {
        "colab": {
          "base_uri": "https://localhost:8080/"
        },
        "id": "ztVn7Y1PuZf0",
        "outputId": "bdcd5729-dc39-4019-be61-3b5fea63453d"
      },
      "execution_count": 28,
      "outputs": [
        {
          "output_type": "execute_result",
          "data": {
            "text/plain": [
              "{'text': ['\"I Am Curious: Yellow\" is a risible and pretentious steaming pile. It doesn\\'t matter what one\\'s political views are because this film can hardly be taken seriously on any level. As for the claim that frontal male nudity is an automatic NC-17, that isn\\'t true. I\\'ve seen R-rated films with male nudity. Granted, they only offer some fleeting views, but where are the R-rated films with gaping vulvas and flapping labia? Nowhere, because they don\\'t exist. The same goes for those crappy cable shows: schlongs swinging in the breeze but not a clitoris in sight. And those pretentious indie movies like The Brown Bunny, in which we\\'re treated to the site of Vincent Gallo\\'s throbbing johnson, but not a trace of pink visible on Chloe Sevigny. Before crying (or implying) \"double-standard\" in matters of nudity, the mentally obtuse should take into account one unavoidably obvious anatomical difference between men and women: there are no genitals on display when actresses appears nude, and the same cannot be said for a man. In fact, you generally won\\'t see female genitals in an American film in anything short of porn or explicit erotica. This alleged double-standard is less a double standard than an admittedly depressing ability to come to terms culturally with the insides of women\\'s bodies.',\n",
              "  \"If only to avoid making this type of film in the future. This film is interesting as an experiment but tells no cogent story.<br /><br />One might feel virtuous for sitting thru it because it touches on so many IMPORTANT issues but it does so without any discernable motive. The viewer comes away with no new perspectives (unless one comes up with one while one's mind wanders, as it will invariably do during this pointless film).<br /><br />One might better spend one's time staring out a window at a tree growing.<br /><br />\",\n",
              "  \"This film was probably inspired by Godard's Masculin, féminin and I urge you to see that film instead.<br /><br />The film has two strong elements and those are, (1) the realistic acting (2) the impressive, undeservedly good, photo. Apart from that, what strikes me most is the endless stream of silliness. Lena Nyman has to be most annoying actress in the world. She acts so stupid and with all the nudity in this film,...it's unattractive. Comparing to Godard's film, intellectuality has been replaced with stupidity. Without going too far on this subject, I would say that follows from the difference in ideals between the French and the Swedish society.<br /><br />A movie of its time, and place. 2/10.\",\n",
              "  'Oh, brother...after hearing about this ridiculous film for umpteen years all I can think of is that old Peggy Lee song..<br /><br />\"Is that all there is??\" ...I was just an early teen when this smoked fish hit the U.S. I was too young to get in the theater (although I did manage to sneak into \"Goodbye Columbus\"). Then a screening at a local film museum beckoned - Finally I could see this film, except now I was as old as my parents were when they schlepped to see it!!<br /><br />The ONLY reason this film was not condemned to the anonymous sands of time was because of the obscenity case sparked by its U.S. release. MILLIONS of people flocked to this stinker, thinking they were going to see a sex film...Instead, they got lots of closeups of gnarly, repulsive Swedes, on-street interviews in bland shopping malls, asinie political pretension...and feeble who-cares simulated sex scenes with saggy, pale actors.<br /><br />Cultural icon, holy grail, historic artifact..whatever this thing was, shred it, burn it, then stuff the ashes in a lead box!<br /><br />Elite esthetes still scrape to find value in its boring pseudo revolutionary political spewings..But if it weren\\'t for the censorship scandal, it would have been ignored, then forgotten.<br /><br />Instead, the \"I Am Blank, Blank\" rhythymed title was repeated endlessly for years as a titilation for porno films (I am Curious, Lavender - for gay films, I Am Curious, Black - for blaxploitation films, etc..) and every ten years or so the thing rises from the dead, to be viewed by a new generation of suckers who want to see that \"naughty sex film\" that \"revolutionized the film industry\"...<br /><br />Yeesh, avoid like the plague..Or if you MUST see it - rent the video and fast forward to the \"dirty\" parts, just to get it over with.<br /><br />',\n",
              "  \"I would put this at the top of my list of films in the category of unwatchable trash! There are films that are bad, but the worst kind are the ones that are unwatchable but you are suppose to like them because they are supposed to be good for you! The sex sequences, so shocking in its day, couldn't even arouse a rabbit. The so called controversial politics is strictly high school sophomore amateur night Marxism. The film is self-consciously arty in the worst sense of the term. The photography is in a harsh grainy black and white. Some scenes are out of focus or taken from the wrong angle. Even the sound is bad! And some people call this art?<br /><br />\",\n",
              "  \"Whoever wrote the screenplay for this movie obviously never consulted any books about Lucille Ball, especially her autobiography. I've never seen so many mistakes in a biopic, ranging from her early years in Celoron and Jamestown to her later years with Desi. I could write a whole list of factual errors, but it would go on for pages. In all, I believe that Lucille Ball is one of those inimitable people who simply cannot be portrayed by anyone other than themselves. If I were Lucie Arnaz and Desi, Jr., I would be irate at how many mistakes were made in this film. The filmmakers tried hard, but the movie seems awfully sloppy to me.\",\n",
              "  'When I first saw a glimpse of this movie, I quickly noticed the actress who was playing the role of Lucille Ball. Rachel York\\'s portrayal of Lucy is absolutely awful. Lucille Ball was an astounding comedian with incredible talent. To think about a legend like Lucille Ball being portrayed the way she was in the movie is horrendous. I cannot believe out of all the actresses in the world who could play a much better Lucy, the producers decided to get Rachel York. She might be a good actress in other roles but to play the role of Lucille Ball is tough. It is pretty hard to find someone who could resemble Lucille Ball, but they could at least find someone a bit similar in looks and talent. If you noticed York\\'s portrayal of Lucy in episodes of I Love Lucy like the chocolate factory or vitavetavegamin, nothing is similar in any way-her expression, voice, or movement.<br /><br />To top it all off, Danny Pino playing Desi Arnaz is horrible. Pino does not qualify to play as Ricky. He\\'s small and skinny, his accent is unreal, and once again, his acting is unbelievable. Although Fred and Ethel were not similar either, they were not as bad as the characters of Lucy and Ricky.<br /><br />Overall, extremely horrible casting and the story is badly told. If people want to understand the real life situation of Lucille Ball, I suggest watching A&E Biography of Lucy and Desi, read the book from Lucille Ball herself, or PBS\\' American Masters: Finding Lucy. If you want to see a docudrama, \"Before the Laughter\" would be a better choice. The casting of Lucille Ball and Desi Arnaz in \"Before the Laughter\" is much better compared to this. At least, a similar aspect is shown rather than nothing.',\n",
              "  'Who are these \"They\"- the actors? the filmmakers? Certainly couldn\\'t be the audience- this is among the most air-puffed productions in existence. It\\'s the kind of movie that looks like it was a lot of fun to shoot\\x97 TOO much fun, nobody is getting any actual work done, and that almost always makes for a movie that\\'s no fun to watch.<br /><br />Ritter dons glasses so as to hammer home his character\\'s status as a sort of doppleganger of the bespectacled Bogdanovich; the scenes with the breezy Ms. Stratten are sweet, but have an embarrassing, look-guys-I\\'m-dating-the-prom-queen feel to them. Ben Gazzara sports his usual cat\\'s-got-canary grin in a futile attempt to elevate the meager plot, which requires him to pursue Audrey Hepburn with all the interest of a narcoleptic at an insomnia clinic. In the meantime, the budding couple\\'s respective children (nepotism alert: Bogdanovich\\'s daughters) spew cute and pick up some fairly disturbing pointers on \\'love\\' while observing their parents. (Ms. Hepburn, drawing on her dignity, manages to rise above the proceedings- but she has the monumental challenge of playing herself, ostensibly.) Everybody looks great, but so what? It\\'s a movie and we can expect that much, if that\\'s what you\\'re looking for you\\'d be better off picking up a copy of Vogue.<br /><br />Oh- and it has to be mentioned that Colleen Camp thoroughly annoys, even apart from her singing, which, while competent, is wholly unconvincing... the country and western numbers are woefully mismatched with the standards on the soundtrack. Surely this is NOT what Gershwin (who wrote the song from which the movie\\'s title is derived) had in mind; his stage musicals of the 20\\'s may have been slight, but at least they were long on charm. \"They All Laughed\" tries to coast on its good intentions, but nobody- least of all Peter Bogdanovich - has the good sense to put on the brakes.<br /><br />Due in no small part to the tragic death of Dorothy Stratten, this movie has a special place in the heart of Mr. Bogdanovich- he even bought it back from its producers, then distributed it on his own and went bankrupt when it didn\\'t prove popular. His rise and fall is among the more sympathetic and tragic of Hollywood stories, so there\\'s no joy in criticizing the film... there _is_ real emotional investment in Ms. Stratten\\'s scenes. But \"Laughed\" is a faint echo of \"The Last Picture Show\", \"Paper Moon\" or \"What\\'s Up, Doc\"- following \"Daisy Miller\" and \"At Long Last Love\", it was a thundering confirmation of the phase from which P.B. has never emerged.<br /><br />All in all, though, the movie is harmless, only a waste of rental. I want to watch people having a good time, I\\'ll go to the park on a sunny day. For filmic expressions of joy and love, I\\'ll stick to Ernest Lubitsch and Jaques Demy...',\n",
              "  \"This is said to be a personal film for Peter Bogdonavitch. He based it on his life but changed things around to fit the characters, who are detectives. These detectives date beautiful models and have no problem getting them. Sounds more like a millionaire playboy filmmaker than a detective, doesn't it? This entire movie was written by Peter, and it shows how out of touch with real people he was. You're supposed to write what you know, and he did that, indeed. And leaves the audience bored and confused, and jealous, for that matter. This is a curio for people who want to see Dorothy Stratten, who was murdered right after filming. But Patti Hanson, who would, in real life, marry Keith Richards, was also a model, like Stratten, but is a lot better and has a more ample part. In fact, Stratten's part seemed forced; added. She doesn't have a lot to do with the story, which is pretty convoluted to begin with. All in all, every character in this film is somebody that very few people can relate with, unless you're millionaire from Manhattan with beautiful supermodels at your beckon call. For the rest of us, it's an irritating snore fest. That's what happens when you're out of touch. You entertain your few friends with inside jokes, and bore all the rest.\",\n",
              "  'It was great to see some of my favorite stars of 30 years ago including John Ritter, Ben Gazarra and Audrey Hepburn. They looked quite wonderful. But that was it. They were not given any characters or good lines to work with. I neither understood or cared what the characters were doing.<br /><br />Some of the smaller female roles were fine, Patty Henson and Colleen Camp were quite competent and confident in their small sidekick parts. They showed some talent and it is sad they didn\\'t go on to star in more and better films. Sadly, I didn\\'t think Dorothy Stratten got a chance to act in this her only important film role.<br /><br />The film appears to have some fans, and I was very open-minded when I started watching it. I am a big Peter Bogdanovich fan and I enjoyed his last movie, \"Cat\\'s Meow\" and all his early ones from \"Targets\" to \"Nickleodeon\". So, it really surprised me that I was barely able to keep awake watching this one.<br /><br />It is ironic that this movie is about a detective agency where the detectives and clients get romantically involved with each other. Five years later, Bogdanovich\\'s ex-girlfriend, Cybil Shepherd had a hit television series called \"Moonlighting\" stealing the story idea from Bogdanovich. Of course, there was a great difference in that the series relied on tons of witty dialogue, while this tries to make do with slapstick and a few screwball lines.<br /><br />Bottom line: It ain\\'t no \"Paper Moon\" and only a very pale version of \"What\\'s Up, Doc\".',\n",
              "  \"I can't believe that those praising this movie herein aren't thinking of some other film. I was prepared for the possibility that this would be awful, but the script (or lack thereof) makes for a film that's also pointless. On the plus side, the general level of craft on the part of the actors and technical crew is quite competent, but when you've got a sow's ear to work with you can't make a silk purse. Ben G fans should stick with just about any other movie he's been in. Dorothy S fans should stick to Galaxina. Peter B fans should stick to Last Picture Show and Target. Fans of cheap laughs at the expense of those who seem to be asking for it should stick to Peter B's amazingly awful book, Killing of the Unicorn.\",\n",
              "  'Never cast models and Playboy bunnies in your films! Bob Fosse\\'s \"Star 80\" about Dorothy Stratten, of whom Bogdanovich was obsessed enough to have married her SISTER after her murder at the hands of her low-life husband, is a zillion times more interesting than Dorothy herself on the silver screen. Patty Hansen is no actress either..I expected to see some sort of lost masterpiece a la Orson Welles but instead got Audrey Hepburn cavorting in jeans and a god-awful \"poodlesque\" hair-do....Very disappointing....\"Paper Moon\" and \"The Last Picture Show\" I could watch again and again. This clunker I could barely sit through once. This movie was reputedly not released because of the brouhaha surrounding Ms. Stratten\\'s tawdry death; I think the real reason was because it was so bad!',\n",
              "  \"Its not the cast. A finer group of actors, you could not find. Its not the setting. The director is in love with New York City, and by the end of the film, so are we all! Woody Allen could not improve upon what Bogdonovich has done here. If you are going to fall in love, or find love, Manhattan is the place to go. No, the problem with the movie is the script. There is none. The actors fall in love at first sight, words are unnecessary. In the director's own experience in Hollywood that is what happens when they go to work on the set. It is reality to him, and his peers, but it is a fantasy to most of us in the real world. So, in the end, the movie is hollow, and shallow, and message-less.\",\n",
              "  'Today I found \"They All Laughed\" on VHS on sale in a rental. It was a really old and very used VHS, I had no information about this movie, but I liked the references listed on its cover: the names of Peter Bogdanovich, Audrey Hepburn, John Ritter and specially Dorothy Stratten attracted me, the price was very low and I decided to risk and buy it. I searched IMDb, and the User Rating of 6.0 was an excellent reference. I looked in \"Mick Martin & Marsha Porter Video & DVD Guide 2003\" and \\x96 wow \\x96 four stars! So, I decided that I could not waste more time and immediately see it. Indeed, I have just finished watching \"They All Laughed\" and I found it a very boring overrated movie. The characters are badly developed, and I spent lots of minutes to understand their roles in the story. The plot is supposed to be funny (private eyes who fall in love for the women they are chasing), but I have not laughed along the whole story. The coincidences, in a huge city like New York, are ridiculous. Ben Gazarra as an attractive and very seductive man, with the women falling for him as if her were a Brad Pitt, Antonio Banderas or George Clooney, is quite ridiculous. In the end, the greater attractions certainly are the presence of the Playboy centerfold and playmate of the year Dorothy Stratten, murdered by her husband pretty after the release of this movie, and whose life was showed in \"Star 80\" and \"Death of a Centerfold: The Dorothy Stratten Story\"; the amazing beauty of the sexy Patti Hansen, the future Mrs. Keith Richards; the always wonderful, even being fifty-two years old, Audrey Hepburn; and the song \"Amigo\", from Roberto Carlos. Although I do not like him, Roberto Carlos has been the most popular Brazilian singer since the end of the 60\\'s and is called by his fans as \"The King\". I will keep this movie in my collection only because of these attractions (manly Dorothy Stratten). My vote is four.<br /><br />Title (Brazil): \"Muito Riso e Muita Alegria\" (\"Many Laughs and Lots of Happiness\")',\n",
              "  \"This film is just plain horrible. John Ritter doing pratt falls, 75% of the actors delivering their lines as if they were reading them from cue cards, poor editing, horrible sound mixing (dialogue is tough to pick up in places over the background noise), and a plot that really goes nowhere. I didn't think I'd ever say this, but Dorothy Stratten is not the worst actress in this film. There are at least 3 others that suck more. Patti Hansen delivers her lines with the passion of Ben Stein. I started to wonder if she wasn't dead inside. Even Bogdanovich's kids are awful (the oldest one is definitely reading her lines from a cue card). This movie is seriously horrible. There's a reason Bogdanovich couldn't get another project until 4 years later. Please don't watch it. If you see it in your television listings, cancel your cable. If a friend suggests it to you, reconsider your friendship. If your spouse wants to watch it, you're better off finding another soulmate. I'd rather gouge my eyes out with lawn darts than sit through this piece of garbage again. If I could sum this film up in one word, that word would be: Suckotrocity\",\n",
              "  \"My interest in Dorothy Stratten caused me to purchase this video. Although it had great actors/actresses, there were just too many subplots going on to retain interest. Plus it just wasn't that interesting. Dialogue was stiff and confusing and the story just flipped around too much to be believable. I was pretty disappointed in what I believe was one of Audrey Hepburn's last movies. I'll always love John Ritter best in slapstick. He was just too pathetic here.\",\n",
              "  \"I have this film out of the library right now and I haven't finished watching it. It is so bad I am in disbelief. Audrey Hepburn had totally lost her talent by then, although she'd pretty much finished with it in 'Robin and Marian.' This is the worst thing about this appallingly stupid film. It's really only of interest because it was her last feature film and because of the Dorothy Stratten appearance just prior to her homicide.<br /><br />There is nothing but idiocy between Gazzara and his cronies. Little signals and little bows and nods to real screwball comedy of which this is the faintest, palest shadow.<br /><br />Who could believe that there are even some of the same Manhattan environs that Hepburn inhabited so magically and even mythically in 'Breakfast at Tiffany's' twenty years earlier? The soundtrack of old Sinatra songs and the Gershwin song from which the title is taken is too loud and obvious--you sure don't have to wait for the credits to find out that something was subtly woven into the cine-musique of the picture to know when the songs blasted out at you.<br /><br />'Reverting to type' means going back up as well as going back down, I guess. In this case, Audrey Hepburn's chic European lady is all you see of someone who was formerly occasionally an actress and always a star. Here she has even lost her talent as a star. If someone whose talent was continuing to grow in the period, like Ann-Margret, had played the role, there would have been some life in it, even given the unbelievably bad material and Mongoloid-level situations.<br /><br />Hepburn was a great person, of course, greater than most movie stars ever dreamed of being, and she was once one of the most charming and beautiful of film actors. After this dreadful performance, she went on to make an atrocious TV movie with Robert Wagner called 'Love Among Thieves.' In 'They all Laughed' it is as though she were still playing an ingenue in her 50's. Even much vainer and obviously less intelligent actresses who insisted upon doing this like Lana Turner were infinitely more effective than is Hepburn. Turner took acting seriously even when she was bad. Hepburn doesn't take it seriously at all, couldn't be bothered with it; even her hair and clothes look tacky. Her last really good work was in 'Two for the Road,' perhaps her most perfect, if possibly not her best in many ways.<br /><br />And that girl who plays the country singer is just sickening. John Ritter is horrible, there is simply nothing to recommend this film except to see Dorothy Stratten, who was truly pretty. Otherwise, critic David Thomson's oft-used phrase 'losing his/her talent' never has made more sense.<br /><br />Ben Gazarra had lost all sex appeal by then, and so we have 2 films with Gazarra and Hepburn--who could ask for anything less? Sandra Dee's last, pitiful film 'Lost,' from 2 years later, a low-budget nothing, had more to it than this. At least Ms. Dee spoke in her own voice; by 1981, Audrey Hepburn's accent just sounded silly; she'd go on to do the PBS 'Gardens of the World with Audrey Hepburn' and there her somewhat irritating accent works as she walks through English gardens with aristocrats or waxes effusively about 'what I like most is when flowers go back to nature!' as in naturalized daffodils, but in an actual fictional movie, she just sounds ridiculous.<br /><br />To think that 'Breakfast at Tiffany's' was such a profound sort of light poetic thing with Audrey Hepburn one of the most beautiful women in the world--she was surely one of the most beautiful screen presences in 'My Fair Lady', matching Garbo in several things and Delphine Seyrig in 'Last Year at Marienbad.' And then this! And her final brief role as the angel 'Hap' in the Spielberg film 'Always' was just more of the lady stuff--corny, witless and stifling.<br /><br />I went to her memorial service at the Fifth Avenue Presbyterian Church, a beautiful service which included a boys' choir singing the Shaker hymn 'Simple Gifts.' The only thing not listed in the program was the sudden playing of Hepburn's singing 'Moon River' on the fire escape in 'Breakfast at Tiffany's,' and this brought much emotion and some real tears out in the congregation.<br /><br />A great lady who was once a fine actress (as in 'The Nun's Story') and one of the greatest and most beautiful of film stars in many movies of the 50's and 60's who became a truly bad one--that's not all that common. And perhaps it is only a great human being who, in making such things as film performances trivial, nevertheless has the largeness of mind to want to have the flaws pointed out mercilessly--which all of her late film work contained in abundance. Most of the talk about Hepburn's miscasting is about 'My Fair Lady.' But the one that should have had the original actress in it was 'Wait Until Dark,' which had starred Lee Remick on Broadway. Never as celebrated as Hepburn, she was a better actress in many ways (Hepburn was completely incapable of playing anything really sordid), although Hepburn was at least adequate enough in that part. After that, all of her acting went downhill.\",\n",
              "  \"I think I will make a movie next weekend. Oh wait, I'm working..oh I'm sure I can fit it in. It looks like whoever made this film fit it in. I hope the makers of this crap have day jobs because this film sucked!!! It looks like someones home movie and I don't think more than $100 was spent making it!!! Total crap!!! Who let's this stuff be released?!?!?!\",\n",
              "  \"Pros: Nothing<br /><br />Cons: Everything<br /><br />Plot summary: A female reporter runs into a hitchhiker that tells her stories about the deaths of people that were killed by zombies.<br /><br />Review: Never in my life have I come across a movie as bad The Zombie Chronicles. Filmed on a budget of what looks to be about 20 bucks, TZC is a completely horrible horror movie that relies on lame, forgetable actors whom couldn't act to save their lives and gore that's more gross than frightening. How does a movie like this even get made? Simply put, avoid TZC like a sexually-transmitted disease.<br /><br />My last 2 cents: Humorously enough, this movie was made by a movie company called Brain Damage Films. They're brains must have really been damaged to come up with a craptacular movie like this.<br /><br />My rating: 1 out of 10(If it were up to me, this movie would get the rating of negative bajillion)\",\n",
              "  'If the crew behind \"Zombie Chronicles\" ever read this, here\\'s some advice guys: <br /><br />1. In a \"Twist Ending\"-type movie, it\\'s not a good idea to insert close-ups of EVERY DEATH IN THE MOVIE in the opening credits. That tends to spoil the twists, y\\'know...? <br /><br />2. I know you produced this on a shoestring and - to be fair - you worked miracles with your budget but please, hire people who can actually act. Or at least, walk, talk and gesture at the same time. Joe Haggerty, I\\'m looking at you...<br /><br />3. If you\\'re going to set a part of your movie in the past, only do this if you have the props and costumes of the time.<br /><br />4. Twist endings are supposed to be a surprise. Sure, we don\\'t want twists that make no sense, but signposting the \"reveal\" as soon as you introduce a character? That\\'s not a great idea.<br /><br />Kudos to the guys for trying, but in all honesty, I\\'d rather they hadn\\'t...<br /><br />Only for zombie completists.',\n",
              "  \"1st watched 8/3/2003 - 2 out of 10(Dir-Brad Sykes): Mindless 3-D movie about flesh-eating zombies in a 3 story within a movie chronicle. And yes, we get to see zombies eating human flesh parts in 3D!! Wow, not!! That has been done time and time again in 2D in a zombie movie but what usually makes a zombie movie better is the underlying story not the actual flesh-eating. That's what made the original zombie classics good. The flesh-eating was just thrown in as an extra. We're actually bored throughout most of this 3-part chronicle because of the lame(twilight-zone like) easily understood and slow-pacingly revealed finale's. The last story is actually the story the movie started with(having a reporter investigating a so-called ghost town) and of course we get to see flesh eating zombie's in that one as well. Well, I think I've said enough. Watch the classics, not this 3D bore-feast.\",\n",
              "  \"There's tons of good-looking women in this flick. But alas, this movie is nudity-free. Grrrrrrrrrr Strike one.<br /><br />Ahem. One story in this film takes place in 1971. Then why the hell are the main characters driving a Kia Sportage? Hello? Continuity, anyone?<br /><br />As you might know, this movie was released in stereoscopic 3D. And it is the most hideous effect I have ever seen. I'm not sure if someone botched the job on this, but there WAS no 3D, just double-vision blurs. I didn't have the same problem with this company's other 3D movies, HUNTING SEASON and CAMP BLOOD. Sure, the 3D in those ones sucked too, but with them I could see a semblance of 3D effect.<br /><br />This thing is a big ball of nothing.<br /><br />And whoever that women was who played the daughter of the ear-eating dame, yum! I'd like to see more of her. In movies, as well. Looks like Janet Margolin at a young age. Purrrrrrrrrrrrrrrr<br /><br />\",\n",
              "  \"En route to a small town that lays way off the beaten track (but which looks suspiciously close to a freeway), a female reporter runs into a strange hitch-hiker who agrees to help direct her to her destination. The strange man then recounts a pair of gruesome tales connected to the area: in the first story, an adulterous couple plot to kill the woman's husband, but eventually suffer a far worse fate themselves when they are attacked by a zombie; and in the second story, a group of campers have their vacation cut short when an undead outlaw takes umbrage at having his grave peed on.<br /><br />The Zombie Chronicles is an attempt by writer Garrett Clancy and director Brad Sykes at making a zombie themed anthology\\x97a nice idea, but with only two stories, it falls woefully short. And that's not the only way in which this low budget gore flick fails to deliver: the acting is lousy (with Joe Haggerty, as the tale-telling Ebenezer Jackson, giving one of the strangest performances I have ever seen); the locations are uninspired; the script is dreary; there's a sex scene with zero nudity; and the ending.... well, that beggars belief.<br /><br />To be fair, some of Sykes' creative camera-work is effective (although the gimmicky technique employed as characters run through the woods is a tad overused) and Joe Castro's cheapo gore is enthusiastic: an ear is bitten off, eyeballs are plucked out, a face is removed, brains are squished, and there is a messy decapitation. These positives just about make the film bearable, but be warned, The Zombie Chronicles ain't a stroll in the park, even for seasoned viewers of z-grade trash.<br /><br />I give The Zombie Chronicles 2/10, but generously raise my rating to 3 since I didn't get to view the film with the benefit of 3D (although I have a sneaking suspicion that an extra dimension wouldn't have made that much of a difference).\",\n",
              "  'Without wishing to be a killjoy, Brad Sykes is responsible for at least two of the most dull and clichéd films i\\'ve ever seen - this being one of them, and Camp Blood being another. <br /><br />The acting is terrible, the print is shoddy, and everything about this film screams \"seriously, you could do better yourself\". Maybe this is a challenge to everyone to saturate youtube with our own zombie related crap?<br /><br />I bought this for £1, but remember, you can\\'t put a price on 71 minutes of your life. You\\'d do well to avoid this turkey, even at a bargain basement price.',\n",
              "  \"My girlfriend once brought around The Zombie Chronicles for us to watch as a joke. Little did we realize the joke was on her for paying £1 for it. While watching this film I started to come up with things I would rather be doing than watching The Zombie Chronicles. These included:<br /><br />1) Drinking bleach 2) Rubbing sand in my eyes 3) Writing a letter to Brad Sykes and Garrett Clancy 4) Re-enacting the American civil war 5) Tax returns 6) GCSE Maths 7) Sex with an old lady.<br /><br />Garrett Clancy, aka Sgt. Ben Draper wrote this? The guy couldn't even dig a hole properly. The best ting he did was kick a door down (the best part of the film). This was the worst film I have ever seen, and I've seen White Noise: The Light. Never has a film had so many mistakes in it. My girlfriend left it here, so now I live with the shame of owning this piece of crap.<br /><br />News just in: Owen Wilson watched this film and tried to kill himself. Fact.<br /><br />DO NOT WATCH\",\n",
              "  'Amateur, no budget films can be surprisingly good ... this however is not one of them.<br /><br />Ah, another Brad Sykes atrocity. The acting is hideous, except for Emmy Smith who shows some promise. The camera \"direction\" needs serious reworking. And no more \"hold the camera and run\" gimmicks either; it just doesn\\'t work. The special effects are unimaginative, there\\'s a problem when the effect can be identified in real time. If you\\'re going to rip off an ear, please don\\'t let us see the actor\\'s real ear beneath the blood. The scenery is bland and boring (same as Mr. Sykes other ventures), and the music is a cross between cheap motel porn and really bad guitar driven metal (see the scenery comment).<br /><br />Did I mention the lack of any real plot, or character development? Apparently, the scriptwriter didn\\'t.<br /><br />Whoever is funding this guy ... please stop. I\\'ve seen some of his other \"home movies\" (which I will not plug) and they are just as bad. Normally, a \"director\" will grow and learn from his previous efforts ... not this guy. It\\'s one thing to be an amateur filmmaker, but anyone can be a hack.<br /><br />Definitely not even a popcorn film ... of course, chewing on popcorn kernels would be less painful than this effort.<br /><br />Award: The worst ever military push-ups in a film.',\n",
              "  \"OK its not the best film I've ever seen but at the same time I've been able to sit and watch it TWICE!!! story line was pretty awful and during the first part of the first short story i wondered what the hell i was watching but at the same time it was so awful i loved it cheap laughs all the way.<br /><br />And Jebidia deserves an Oscar for his role in this movie the only thing that let him down was half way through he stopped his silly name calling.<br /><br />overall the film was pretty perfetic but if your after cheap laughs and you see it in pound land go by it.\",\n",
              "  \"Some films that you pick up for a pound turn out to be rather good - 23rd Century films released dozens of obscure Italian and American movie that were great, but although Hardgore released some Fulci films amongst others, the bulk of their output is crap like The Zombie Chronicles.<br /><br />The only positive thing I can say about this film is that it's nowhere near as annoying as the Stink of Flesh. Other than that, its a very clumsy anthology film with the technical competence of a Lego house built by a whelk.<br /><br />It's been noted elsewhere, but you really do have to worry about a film that inserts previews of the action into its credit sequence, so by the time it gets to the zombie attacks, you've seen it all already.<br /><br />Bad movie fans will have a ball watching the 18,000 continuity mistakes and the diabolical acting of the cast (especially the hitchhiker, who was so bad he did make me laugh a bit), and kudos to Hardgore for getting in to the spirit of things by releasing a print so bad it felt like I was watching some beat up home video of a camping trip.<br /><br />Awful, awful stuff. We've all made stuff like this when we've gotten a hold of a camera, but common sense prevails and these films languish in our cupboards somewhere. Avoid.\",\n",
              "  'I received this movie as a gift, I knew from the DVD cover, this movie are going to be bad.After not watching it for more than a year I finally watched it. what a pathetic movie\\x85.<br /><br />I almost didn\\'t finish watching this bad movie,but it will be unfair of me to write a review without watching the complete movie.<br /><br />Trust me when I say \" this movie sucks\" I am truly shocked that some bad filmmaker wane bee got even financed to make this pathetic movie, But it couldn\\'t have cost more than $20 000 to produce this movie. all you need are a cheap camcorder or a cell phone camera .about 15 people with no acting skills, a scrip that were written by a couple of drunk people.<br /><br />In the fist part of this ultra bad move a reporter (Tara Woodley )run a suppose to be drunk man over on her way to report on a hunted town. He are completely unharmed. They went to a supposed to be abandon house ,but luckily for the it almost complete furnished and a bottle of liquor on the door step happens to be there. just for the supposed to be drunk man but all is not what it seems.<br /><br />Then the supposed drunk man start telling Tara ghost/zombies stories.<br /><br />The fist of his stupid lame stories must be the worst in history.<br /><br />his story<br /><br />Sgt. Ben Draper let one of his soldiers die of complete exhaustion (I think this is what happens)after letting the poor soldier private Wilson do sit ups he let him dig a grave and then the soldier collapse ,Ben Draper<br /><br />buries him in a shallow grave.<br /><br />But Sgt. Ben Draper are in for n big surprise. his wife/girl fiend knows about this and she and her lover kills Sgt. Ben Draper to take revenge on private Wilson.(next to the grave of the soldier he sort off murdered) The soldier wakes up from his grave in the form of zombie and kill them for taking revenge on his behalf.<br /><br />The twist ending were so lame.<br /><br />Even if you like B HORROR movies, don\\'t watch this movie',\n",
              "  'I have not seen many low budget films i must admit, but this is the worst movie ever probably, the main character the old man talked like, he had a lobotomy and lost the power to speak more than one word every 5 seconds, a 5 year old could act better. The story had the most awful plot, and well the army guy had put what he thought was army like and then just went over the top, i only watched it to laugh at how bad it was, and hoped it was leading onto the real movie. I cant believe it was under the 2 night rental thing at blockbusters, instead of a please take this for free and get it out of our sight. I think there was one semi decent actor other than the woman, i think the only thing OK with the budget was the make up, but they show every important scene of the film in the beginning music bit. Awful simply awful.',\n",
              "  '..Oh wait, I can! This movie is not for the typical film snob, unless you want to brush up on your typical cinematic definitions, like \"continuity editing\" and \"geographic match\". I couldn\\'t tell where I was in this movie. One second they\\'re in the present, next minute their supposedly in the 70\\'s driving a modern SUV and wearing what looked like to me as 80\\'s style clothing. I think. I couldn\\'t pay long enough attention to it since the acting was just horrible. I think it only got attention because it has a 3d which I did not watch. If you\\'re a b-movie buff, and by b-movie I mean BAD movie, then this film is for you. It\\'s home-movie and all non-sense style will keep you laughing for as long as you can stay awake. If your tastes are more for Goddard and Antonioni, though, just skip this one.',\n",
              "  \"You have to admire Brad Sykes even if you don't particularly want to, a man who churns out budget horror after budget horror to less than enthusiastic receptions. But keeps on doing it all the same. Even the half-hearted praise than surrounds his Camp Blood films is given grudgingly and I'm as guilty of this as anyone. Brad normally manages to throw something interesting into the mix, a neat idea, a kooky character, whatever, but without the funds to take it further than base level, he relies on the audience to cut him some slack and appreciate it for what it is and what it could be. Joe Haggerty gives a spirited and very funny performance as Ebenezer Jackson and its a credit to Sykes that he can sense that this oddball turn is going to work within the framework of the film. Coming to a multiplex near you, in a parallel universe, somewhere.\",\n",
              "  \"THE ZOMBIE CHRONICLES <br /><br />Aspect ratio: 1.33:1 (Nu-View 3-D)<br /><br />Sound format: Mono<br /><br />Whilst searching for a (literal) ghost town in the middle of nowhere, a young reporter (Emmy Smith) picks up a grizzled hitchhiker (Joseph Haggerty) who tells her two stories involving flesh-eating zombies reputed to haunt the area.<br /><br />An ABSOLUTE waste of time, hobbled from the outset by Haggerty's painfully amateurish performance in a key role. Worse still, the two stories which make up the bulk of the running time are utterly routine, made worse by indifferent performances and lackluster direction by Brad Sykes, previously responsible for the likes of CAMP BLOOD (1999). This isn't a 'fun' movie in the sense that Ed Wood's movies are 'fun' (he, at least, believed in what he was doing and was sincere in his efforts, despite a lack of talent); Sykes' home-made movies are, in fact, aggravating, boring and almost completely devoid of any redeeming virtue, and most viewers will feel justifiably angry and cheated by such unimaginative, badly-conceived junk. The 3-D format is utterly wasted here.\",\n",
              "  \"A woman asks for advice on the road to reach a mysterious town, and hears two ghoulish stories from the local weirdo, both zombie related. But perhaps fate has something nasty in store for her too...<br /><br />The Zombie Chronicles is absolutely one of the worst films I have ever seen. In fact I must confess, so bad was it I fast forwarded through most of the garbage. And there was a lot of that, believe me. It runs for just 69 minutes, and there is still tons of filler. You get some skinhead doing a lot of push ups, plenty of dull kissy-kissy scenes between goofy teens (that rhymed, tee hee) and some fine examples of why some people should never become actors.<br /><br />As for the title characters, they barely even have a footnote in the film. Why, you get more undead action in the intro than you do the preceding feature! Though, considering how pathetic the eyes bursting out of sockets and the eating of brains sequences are (amongst other 'delights'), maybe that's a blessing in disguise.<br /><br />And to top it all off, it looks likes it's been filmed on someone's mobile phone for broadcast on Youtube. Jerky camera-work, scratches on the print, flickering lights... I had to rub my eyes when I realised it was made in 2001, and not 1971. Even the clothes and fashioned look about three decades out of date!<br /><br />If you think I'm not qualified to do a review of Chronicles having not seen the whole film, then go ahead. YOU try sitting through it, I betcha you won't even make it to the first appearance of the blue-smartie coloured freaks before making your excuses and leaving. It is truly laughable that anyone chose to release it, and honestly you'll get far more fun resting your drink on the disc than actually torturing your DVD player with this gigglesome excuse for horror. In fact, don't for surprised if it packs it's bags and leaves in the morning, leaving you doomed to watch VHS tapes for the rest of your life. You have been warned... 0/10<br /><br />P.S What kind of 18-rated horror has the woman keep a massive sports bra on during the obligatory sex scene?! See, the movie can't even get that part right...\",\n",
              "  \"Really, I can't believe that I spent $5 on this movie. I am a huge zombie fanatic and thought the movie couldn't be that bad. It had zombies in it right? Was I wrong! To be honest the movie had it's moments...I thought it was cool when the guy got his head ripped off but that was about it. Overall I think that it would be more enjoyable to slide down a razorblade slide on my bare nutsack into a vat of vinegar then watch this movie again. The movie could have been better if we could see some boob but I had to watch the trailers for the other movies produced by this company to see that. Buyer beware...unless you are into masochism.\",\n",
              "  \"I rented this movie about 3 years ago, and it still stands out in my mind as the worst movie ever made. I don't think I ever finished it. It is worse than a home video made by a high school student. I remember them doing a flashback to 1970 something and in the flashback there was a man with a polo shirt, oakley sunglasses and a newer SUV, like a Toyota Rav-4 or something (I don't remember). I don't understand how they could have possibly said that to be in the 70s. He might have had a cell phone too, I cant remember, It was just horrible. I returned it to the video store and asked them why they even carry the movie and if I could get the hour of my life back. To this day it is the worst movie I have ever seen, and I have seen some pretty bad ones.\",\n",
              "  ':Spoilers:<br /><br />I was very disappointed in Love\\'s Abiding Joy. I had been waiting a really long time to see it and I finally got the chance when it re-aired Thursday night on Hallmark. I love the first three \"Love\" movies but this one was nothing like I thought it was going to be. The whole movie was sad and depressing, there were way to many goofs, and the editing was very poor - to many scenes out of context. I also think the death of baby Kathy happened way to soon and Clarks appearance in the movie just didn\\'t seem to fit. It seemed like none of the actors really wanted to be there - they were all lacking emotion. There seemed to be no interaction between Missie and Willie at all.<br /><br />I think the script writers should have went more by the book. It seems like every movie that\\'s been made so far just slips further and further away from Janette Oke\\'s writings. I mean in the movie they never mentioned a thing about the mine and the two boys or Clark getting hurt because of it. And I think Missie and Willies reactions to Kathy\\'s death could have been shown and heard rather than just heard.<br /><br />Out of the four movies that have been made so far I\\'d have to say that Love\\'s Abiding Joy is my least favorite. I hope with the next four movies that more of the book is followed and if Clarks character is in them I hope he\\'s got a bigger part and I hope his part isn\\'t so bland. I also hope there is more of Scottie and Cookie and maybe even Marty but who knows what the script writers will have in store next.',\n",
              "  'I\\'ve seen all four of the movies in this series. Each one strays further and further from the books. This is the worst one yet. My problem is that it does not follow the book it is titled after in any way! The directors and producers should have named it any thing other than \"Love\\'s Abiding Joy.\" The only thing about this movie that remotely resembles the book are the names of some of the characters (Willie, Missie, Henry, Clark, Scottie and Cookie). The names/ages/genders of the children are wrong. The entire story line is no where in the book.<br /><br />I find it a great disservice to Janette Oke, her books and her fans to produce a movie under her title that is not correct in any way. The music is too loud. The actors are not convincing - they lack emotions.<br /><br />If you want a good family movie, this might do. It is clean. Don\\'t watch it, though, if you are hoping for a condensed version of the book. I hope that this will be the last movie from this series, but I doubt it. If there are more movies made, I wish Michael Landon, Jr and others would stick closer to the original plot and story lines. The books are excellent and, if closely followed, would make excellent movies!',\n",
              "  \"I very much looked forward to this movie. Its a good family movie; however, if Michael Landon Jr.'s editing team did a better job of editing, the movie would be much better. Too many scenes out of context. I do hope there is another movie from the series, they're all very good. But, if another one is made, I beg them to take better care at editing. This story was all over the place and didn't seem to have a center. Which is unfortunate because the other movies of the series were great. I enjoy the story of Willie and Missy; they're both great role models. Plus, the romantic side of the viewers always enjoy a good love story.\",\n",
              "  \"I have read all of the Love Come Softly books. Knowing full well that movies can not use all aspects of the book,but generally they at least have the main point of the book. I was highly disappointed in this movie. The only thing that they have in this movie that is in the book is that Missy's father comes to visit,(although in the book both parents come). That is all. The story line was so twisted and far fetch and yes, sad, from the book, that I just couldn't enjoy it. Even if I didn't read the book it was too sad. I do know that Pioneer life was rough,but the whole movie was a downer. The rating is for having the same family orientation of the film that makes them great.\",\n",
              "  'As a Southern Baptist, it pains me that I must give a below average rating to an overtly Christian movie. There certainly aren\\'t so many that I want to discourage film-makers from a genre that\\'s woefully under-exploited. Still, I must honestly say that \"Love\\'s Abiding Joy\" is a typically low budget, low key, self-consciously Christian film. The plot is predictable, the acting mediocre (I\\'m being kind), and the editing atrocious. As a TV movie it might have been slightly above average, but as a feature film it leaves much to be desired. Keep trying guys. You\\'ve got to have a movie about about real Christians inside you somewhere. Might I suggest you turn to G. K. Chesterton or C. S. Lewis for some inspiration?',\n",
              "  \"WARNING: This review contains SPOILERS. Do not read if you don't want some points revealed to you before you watch the film.<br /><br />With a cast like this, you wonder whether or not the actors and actresses knew exactly what they were getting into. Did they see the script and say, `Hey, Close Encounters of the Third Kind was such a hit that this one can't fail.' Unfortunately, it does. Did they even think to check on the director's credentials? I mean, would YOU do a movie with the director of a movie called `Satan's Cheerleaders?' Greydon Clark, who would later go on to direct the infamous `Final Justice,' made this. It makes you wonder how the people of Mystery Science Theater 3000 could hammer `Final Justice' and completely miss out on `The Return.'<br /><br />The film is set in a small town in New Mexico. A little boy and girl are in the street unsupervised one night when a powerful flashlight beam.er.a spaceship appears and hovers over them. In probably the worst special effect sequence of the film, the ship spews some kind of red ink on them. It looked like Clark had held a beaker of water in from of the camera lens and dipped his leaky pen in it, so right away you are treated with cheese. Anyhow, the ship leaves and the adults don't believe the children. Elsewhere, we see Vincent Schiavelli, whom I find to be a terrific actor (watch his scenes in `Ghost' for proof, as they are outstanding), who is playing a prospector, or as I called him, the Miner 1949er. He steps out of the cave he is in, and he and his dog are inked by the ship. Twenty-five years go by, and the girl has grown up to be Cybill Shepherd, who works with her father, Raymond Burr, in studying unusual weather phenomena. Or something like that. Shepherd spots some strange phenomena in satellite pictures over that little New Mexico town, and she travels there to research it. Once she gets there, the local ranchers harass her, and blame her for the recent slew of cattle mutilations that have been going on, and deputy Jan-Michael Vincent comes to her rescue. From this point on, the film really drags as the two quickly fall for each other, especially after Vincent wards off the locals and informs Shepherd that he was the little boy that saw the ship with her twenty-five years earlier. While this boring mess is happening, Vincent Schiavelli, with his killer dog at his side, is walking around killing the cattle and any people he runs into with an unusual item. You know those glowing plastic sticks stores sell for trick-or-treaters at Halloween, the kind that you shake to make them glow? Schiavelli uses what looks like one of those glow sticks to burn incisions in people. It's the second-worst effect in the movie. Every time Schiavelli is on screen with the glow stick, the scene's atmosphere suddenly turns dark, like the filmmakers thought the glow stick needed that enhancement. It ends up making the movie look even cheaper than it is.<br /><br />And what does all this lead up to? It's hard to tell when the final, confusing scene arrives. See, Burr and his team of scientists try to explain the satellite images that Shepherd found as some kind of `calling card,' but none of it makes sense. Why do Shepherd and Vincent age and Schiavelli does not? Schiavelli explains why he is killing cattle and people and why he wants Shepherd dead, but even that doesn't make much sense when you really think about it. I mean, why doesn't he kill Jan-Michael Vincent? After all, he had twenty-five years to do it. And the aliens won't need him if Shepherd is dead anyhow, so why try to kill her? Speaking of the aliens, it is never clear what they really wanted out of Shepherd and Vincent. What is their goal? Why do they wait so long to intervene? How could they be so sure Shepherd would come back? Not that the answer to any of these and other questions would have made `The Return' any more pleasant. You would still have bad lines, really bad acting, particularly by Shepherd, cheesy effects, and poor direction. Luckily, the stars escaped from this movie. Cybill Shepherd soon went on to star in `Moonlighting' with Bruce Willis. Jan-Michael Vincent went on to be featured in dozens of B-movies, often in over-the-top parts. Raymond Burr made a pile of Perry Mason television movies right up until his death. Vincent Schiavelli went on to be a great character actor in a huge number of films. Martin Landau, who played a kooky law enforcement officer, quickly made the terrific `Alone in the Dark' and the awful `The Being' before rolling into the films he has been famous for recently. You can bet none of these stars ever want their careers to return to `The Return.' Zantara's score: 2 out of 10.\",\n",
              "  'As a kid I did think the weapon the murderer wielded was cool, however I was a kid and so I was a bit dumb. Even as a dumb kid though the movies plot was stupid and a bit boring when the killer was not using his light knife to kill people. What amazes me is that the movie has a really solid cast in it. What script did they read when agreeing to be in this movie as it is most assuredly boring and only a means to show off a light saber on a very small scale. The plot at times is incomprehensible and the end is totally chaotic. The whole film seems to rotate around aliens and the one weapon. The plot has two kids and some dude having an alien encounter, flash years later and there seems to be a return as it were in the mix. Dead animals and such to be explored and for some reason the one dude gets the weapon of the aliens and proceeds to use it to go on a very light killing spree. Seriously, you just have to wonder why this movie was made, if you are going to have a killer have some good death scenes, if you are going to have alien encounters show more than a weird light vortex thing, and if you are going to have light sabers then call yourself star wars.',\n",
              "  \"Jill Dunne (played by Mitzi Kapture), is an attractive, nice woman, over-whelmed by a smart-mouthed teenage daughter, Liv (Martha MacIsaac) and a petty, two-timing husband, Sean (Rick Roberts), both of which were tediously self-centered, and obnoxious.<br /><br />This was advertised as a troubled family stalked by a crazed killer during a relentless storm.<br /><br />The storm doesn't even happen until about the last 5 minutes of the film, and then it isn't anything to send anybody running to the storm cellar.<br /><br />The stalking, likewise doesn't get intense until almost the end of the film.<br /><br />Most of the film we spend listening to Jill and her insufferable daughter, Liv, argue until I just wanted to back slap the daughter into next week.<br /><br />Jill's problem with Liv is that she has taken up with Zack, a boy of questionable character, and they are constantly making out--in fact Jill comes home to find the two of them on Liv's bed.<br /><br />The rest of the time we spend listening to Jill's husband Sean either whine at Jill or criticize her.<br /><br />Sean was not at all appealing--since his face is so covered in freckles you could play connect the dots.<br /><br />The story begins with Jill being notified of an out-standing bill on their credit card for a hotel she has never been to, and that she thought Sean had never been to either.<br /><br />Jill goes to the hotel where she meets the owner & manager, Richard Grant (Nick Mancuso), a very nice, older, divorced man, who is sympathetic to her. In fact, when he spots her husband there again, he phones Jill and tips her off.<br /><br />Jill returns to the hotel, sees Sean with another woman. She is upset, leaves without Sean seeing her, and does absolutely nothing. In fact, she doesn't even say anything to Sean when he arrives home. This made no sense to me.<br /><br />Jill has given Richard her business card, and so he calls her and she is apparently in real estate. She shows him a condo. Afterwards they have a drink, and things get cozy between them.<br /><br />Richard and Jill are getting it on, hot and heavy. In fact, he seems a bit more aggressive than necessary, when Jill suddenly decides to cut out.<br /><br />Jill and Sean have a confrontation about his cheating. Sean whines about how Jill has been letting him down since her father died. Apparently his lack of any morals is all her fault. Eventually Jill confesses her own lack of morals and near adultery to Sean--and of course that's all her fault too, as far as Sean is concerned.<br /><br />The little family decides to go on a camping trip--which means more whining and grousing among them, especially from the spoiled daughter.<br /><br />I was so rooting for the stalker to get everybody, but Jill.<br /><br />3 stars\",\n",
              "  'This movie sucked. It really was a waste of my life. The acting was atrocious, the plot completely implausible. Long, long story short, these people get \"terrorized\" by this pathetic \"crazed killer\", but completely fail to fight back in any manner. And this is after they take a raft on a camping trip, with no gear, and show up at a campsite that is already assembled and completely stocked with food and clothes and the daughters headphones. Additionally, after their boat goes missing, they panic that they\\'re stuck in the woods, but then the daughters boyfriend just shows up and they apparently never consider that they could just hike out of the woods like he did to get to them. Like I said, this movie sucks. A complete joke. Don\\'t let your girlfriend talk you into watching it.',\n",
              "  \"Lifetime did it again. Can we say stupid? I couldn't wait for it to end. The plot was senseless. The acting was terrible! Especially by the teenagers. The story has been played a thousand times! Are we just desperate to give actors a job? The previews were attractive and I was really looking for a good thriller.Once in awhile lifetime comes up with a good movie, this isn't one of them. Unless one has nothing else to do I would avoid this one at all cost. This was a waste of two hours of my life. Can I get them back? I would have rather scraped my face against a brick wall for two hours then soaked it in peroxide. That would have been more entertaining.\",\n",
              "  'I have to say I am really surprised at the high ratings for this movie. I found it to be absolutely idiotic. The mother gets \"visions\" when she touches certain things or people? And one thing she touched twice made her vision continue... Just seemed so ridiculous. Deedee Pfieffer\\'s performance was awful I thought. She was very irritating. The girl who played Lori did a good job and so did most of the supporting cast for what they had to work with.<br /><br />I usually love LMN and am very open minded when it comes to movies but this movie seemed to have a ridiculous plot and over the top acting and it just was not for me.',\n",
              "  \"The original book of this was set in the 1950s but that won't do for the TV series because most people watch for the 1930s style. Ironically the tube train near the end was a 1950s train painted to look like a 1930s train so the Underground can play at that game too. Hanging the storyline on a plot about the Jarrow March was feeble but the 50s version had students who were beginning to think about the world around them so I suppose making them think about the poverty of the marchers is much the same thing. All the stuff about Japp having to cater for himself was weak too but they had to put something in to fill the time. This would have made a decent half hour show or they could have filmed the book and made it a better long show. It is obvious this episode is a victim of style over content.\",\n",
              "  \"The annoying mouse and lullaby really got to me and really had nothing to do with the story...It's something I would have done my 1st year in film school. Very sad. Additionally, the story just seemed to drag on for no apparent reason...there were too many things just thrown in there that had nothing to do with the story, which makes me feel that the creative team didn't really know what they were doing, or just that it should have been shorter...which would have been a blessing, not a crime. As I have just watched all of the episodes up to this point over the past week...I'd have to say that this was by far the worst, and I just wanted to warn others not to start with this one.\"],\n",
              " 'label': [0,\n",
              "  0,\n",
              "  0,\n",
              "  0,\n",
              "  0,\n",
              "  0,\n",
              "  0,\n",
              "  0,\n",
              "  0,\n",
              "  0,\n",
              "  0,\n",
              "  0,\n",
              "  0,\n",
              "  0,\n",
              "  0,\n",
              "  0,\n",
              "  0,\n",
              "  0,\n",
              "  0,\n",
              "  0,\n",
              "  0,\n",
              "  0,\n",
              "  0,\n",
              "  0,\n",
              "  0,\n",
              "  0,\n",
              "  0,\n",
              "  0,\n",
              "  0,\n",
              "  0,\n",
              "  0,\n",
              "  0,\n",
              "  0,\n",
              "  0,\n",
              "  0,\n",
              "  0,\n",
              "  0,\n",
              "  0,\n",
              "  0,\n",
              "  0,\n",
              "  0,\n",
              "  0,\n",
              "  0,\n",
              "  0,\n",
              "  0,\n",
              "  0,\n",
              "  0,\n",
              "  0,\n",
              "  0]}"
            ]
          },
          "metadata": {},
          "execution_count": 28
        }
      ]
    },
    {
      "cell_type": "code",
      "source": [],
      "metadata": {
        "id": "rOCpv0CLvNw6"
      },
      "execution_count": null,
      "outputs": []
    }
  ],
  "metadata": {
    "colab": {
      "provenance": [],
      "authorship_tag": "ABX9TyMkqx7IS+whb+VliPhxq/AR",
      "include_colab_link": true
    },
    "kernelspec": {
      "display_name": "Python 3",
      "name": "python3"
    },
    "language_info": {
      "name": "python"
    }
  },
  "nbformat": 4,
  "nbformat_minor": 0
}